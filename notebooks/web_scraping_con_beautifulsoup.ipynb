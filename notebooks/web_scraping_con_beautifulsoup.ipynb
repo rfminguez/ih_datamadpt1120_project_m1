{
 "cells": [
  {
   "cell_type": "markdown",
   "metadata": {},
   "source": [
    "# Web Scraping y Limpieza de Datos\n",
    "\n",
    "Web scraping de códigos de pais sacados de esta página:\n",
    "\n",
    "https://ec.europa.eu/eurostat/statistics-explained/index.php/Glossary:Country_codes"
   ]
  },
  {
   "cell_type": "code",
   "execution_count": 1,
   "metadata": {},
   "outputs": [
    {
     "name": "stdout",
     "output_type": "stream",
     "text": [
      "Setup completado!\n"
     ]
    }
   ],
   "source": [
    "import requests\n",
    "from bs4 import BeautifulSoup\n",
    "\n",
    "print(\"Setup completado!\")"
   ]
  },
  {
   "cell_type": "code",
   "execution_count": 2,
   "metadata": {},
   "outputs": [],
   "source": [
    "url = \"https://ec.europa.eu/eurostat/statistics-explained/index.php/Glossary:Country_codes\"\n",
    "\n",
    "response = requests.get(url)\n",
    "\n",
    "soup = BeautifulSoup(response.text, \"html.parser\")\n",
    "\n",
    "# Hay varias tablas (miembros UE, paises candidatos a entrar en la UE, paises EFTA, ...)\n",
    "tables = soup.select(\"table\")\n",
    "#print(type(table))"
   ]
  },
  {
   "cell_type": "code",
   "execution_count": 3,
   "metadata": {},
   "outputs": [],
   "source": [
    "# Selecciono las celdas de la tabla que contiene los códigos y nombres de los paises (tags <td> detro de los <tr> de un <table>)\n",
    "table_cells = soup.select(\"table tr td\")\n",
    "\n",
    "# Selecciono el texto de cada celda (i.e. sin los tags html)\n",
    "table_cells = list(map(lambda cell: cell.text.strip(), table_cells))\n",
    "\n",
    "# Elimino las celdas que están vacias\n",
    "table_cells = [cell for cell in table_cells if cell != \"\"]\n",
    "\n",
    "# Creo un diccionario código_pais:nombre_país. Este diccionario hay que limpiarlo (ver siguiente celda).\n",
    "country_codes_dict_messy = {country_code:country_name for country_name, country_code in zip(table_cells[::2], table_cells[1::2])}\n",
    "#country_codes_dict_messy\n"
   ]
  },
  {
   "cell_type": "code",
   "execution_count": 4,
   "metadata": {},
   "outputs": [],
   "source": [
    "# Limpio el diccionario\n",
    "import re\n",
    "\n",
    "# El código de pais viene encerrado por corchetes y tiene siempre dos letras. Así que me quedo con los dos caracteres en el índice 1 y el índice 2\n",
    "country_codes = list(map(lambda s: s[1:3], country_codes_dict_messy.keys()))\n",
    "#country_codes\n",
    "\n",
    "# Algunos nombres de paises tienen datos no alfanuméricos al final y otros tienen contenido encerrado entre paréntesis o corchetes\n",
    "country_names = list(country_codes_dict_messy.values())\n",
    "country_names = list(map(lambda s: re.sub(r\"[^\\w]$\", \"\", s), country_names))\n",
    "country_names = list(map(lambda s: re.sub(r\"\\s[\\[\\(].*\", \"\", s), country_names))\n",
    "#country_names\n",
    "\n",
    "# El diccionario con los datos limpios\n",
    "country_codes_dict_clean = dict(zip(country_codes, country_names))\n"
   ]
  },
  {
   "cell_type": "markdown",
   "metadata": {},
   "source": [
    "# Resultado final\n",
    "El diccionario con los datos limpios.\n",
    "\n",
    "Esto puedo guardarlo en una base de datos para consultarlo posteriormente."
   ]
  },
  {
   "cell_type": "code",
   "execution_count": 5,
   "metadata": {},
   "outputs": [
    {
     "data": {
      "text/plain": [
       "{'BE': 'Belgium',\n",
       " 'EL': 'Greece',\n",
       " 'LT': 'Lithuania',\n",
       " 'PT': 'Portugal',\n",
       " 'BG': 'Bulgaria',\n",
       " 'ES': 'Spain',\n",
       " 'LU': 'Luxembourg',\n",
       " 'RO': 'Romania',\n",
       " 'CZ': 'Czechia',\n",
       " 'FR': 'France',\n",
       " 'HU': 'Hungary',\n",
       " 'SI': 'Slovenia',\n",
       " 'DK': 'Denmark',\n",
       " 'HR': 'Croatia',\n",
       " 'MT': 'Malta',\n",
       " 'SK': 'Slovakia',\n",
       " 'DE': 'Germany',\n",
       " 'IT': 'Italy',\n",
       " 'NL': 'Netherlands',\n",
       " 'FI': 'Finland',\n",
       " 'EE': 'Estonia',\n",
       " 'CY': 'Cyprus',\n",
       " 'AT': 'Austria',\n",
       " 'SE': 'Sweden',\n",
       " 'IE': 'Ireland',\n",
       " 'LV': 'Latvia',\n",
       " 'PL': 'Poland',\n",
       " 'UK': 'United Kingdom',\n",
       " 'IS': 'Iceland',\n",
       " 'NO': 'Norway',\n",
       " 'LI': 'Liechtenstein',\n",
       " 'CH': 'Switzerland',\n",
       " 'ME': 'Montenegro',\n",
       " 'MK': 'North Macedonia',\n",
       " 'AL': 'Albania',\n",
       " 'RS': 'Serbia',\n",
       " 'TR': 'Turkey',\n",
       " 'BA': 'Bosnia and Herzegovina',\n",
       " 'XK': 'Kosovo',\n",
       " 'AM': 'Armenia',\n",
       " 'BY': 'Belarus',\n",
       " 'GE': 'Georgia',\n",
       " 'AZ': 'Azerbaijan',\n",
       " 'MD': 'Moldova',\n",
       " 'UA': 'Ukraine',\n",
       " 'DZ': 'Algeria',\n",
       " 'LB': 'Lebanon',\n",
       " 'SY': 'Syria',\n",
       " 'EG': 'Egypt',\n",
       " 'LY': 'Libya',\n",
       " 'TN': 'Tunisia',\n",
       " 'IL': 'Israel',\n",
       " 'MA': 'Morocco',\n",
       " 'JO': 'Jordan',\n",
       " 'PS': 'Palestine',\n",
       " 'RU': 'Russia',\n",
       " 'AR': 'Argentina',\n",
       " 'CN': 'China',\n",
       " 'MX': 'Mexico',\n",
       " 'ZA': 'South Africa',\n",
       " 'AU': 'Australia',\n",
       " 'HK': 'Hong Kong',\n",
       " 'NG': 'Nigeria',\n",
       " 'KR': 'South Korea',\n",
       " 'BR': 'Brazil',\n",
       " 'IN': 'India',\n",
       " 'NZ': 'New Zealand',\n",
       " 'TW': 'Taiwan',\n",
       " 'CA': 'Canada',\n",
       " 'JP': 'Japan',\n",
       " 'SG': 'Singapore',\n",
       " 'US': 'United States'}"
      ]
     },
     "execution_count": 5,
     "metadata": {},
     "output_type": "execute_result"
    }
   ],
   "source": [
    "country_codes_dict_clean"
   ]
  },
  {
   "cell_type": "code",
   "execution_count": null,
   "metadata": {},
   "outputs": [],
   "source": []
  }
 ],
 "metadata": {
  "kernelspec": {
   "display_name": "Python [conda env:ironhack_env]",
   "language": "python",
   "name": "conda-env-ironhack_env-py"
  },
  "language_info": {
   "codemirror_mode": {
    "name": "ipython",
    "version": 3
   },
   "file_extension": ".py",
   "mimetype": "text/x-python",
   "name": "python",
   "nbconvert_exporter": "python",
   "pygments_lexer": "ipython3",
   "version": "3.8.5"
  }
 },
 "nbformat": 4,
 "nbformat_minor": 4
}
