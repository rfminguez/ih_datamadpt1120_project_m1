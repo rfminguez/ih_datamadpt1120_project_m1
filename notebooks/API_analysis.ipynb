{
 "cells": [
  {
   "cell_type": "markdown",
   "metadata": {},
   "source": [
    "# API URLs\n",
    "## Documentación\n",
    "https://github.com/workforce-data-initiative/skills-api/wiki/API-Overview\n",
    "\n",
    "## El *endpoint* concreto que voy a usar\n",
    "http://api.dataatwork.org/v1/spec/#!/default/get_jobs_id\n",
    "\n",
    "## Ejemplo\n",
    "Descargar datos por este jobid: `fd69391dc29c83d5ad744daa57de0175`\n",
    "\n",
    "### Usando el comando `curl`\n",
    "`curl -X GET --header 'Accept: application/json' 'http://api.dataatwork.org/v1/jobs/fd69391dc29c83d5ad744daa57de0175'`\n",
    "\n",
    "### Usando Request URL\n",
    "http://api.dataatwork.org/v1/jobs/fd69391dc29c83d5ad744daa57de0175\n",
    "\n",
    "### Respuesta\n",
    "Devuelve un JSON como este\n",
    "\n",
    "``` json\n",
    "{\n",
    "  \"uuid\": \"fd69391dc29c83d5ad744daa57de0175\",\n",
    "  \"title\": \"Data Transcriber\",\n",
    "  \"normalized_job_title\": \"data transcriber\",\n",
    "  \"parent_uuid\": \"fcfdb76b27a6e4c34abd128cbd9f61ba\"\n",
    "}\n",
    "```"
   ]
  },
  {
   "cell_type": "markdown",
   "metadata": {},
   "source": [
    "# Acceso al API desde Python"
   ]
  },
  {
   "cell_type": "code",
   "execution_count": 12,
   "metadata": {},
   "outputs": [
    {
     "name": "stdout",
     "output_type": "stream",
     "text": [
      "Setup completado!\n"
     ]
    }
   ],
   "source": [
    "import requests\n",
    "\n",
    "print(\"Setup completado!\")"
   ]
  },
  {
   "cell_type": "code",
   "execution_count": 13,
   "metadata": {},
   "outputs": [],
   "source": [
    "def get_job_data(job_code):\n",
    "    base_url = \"http://api.dataatwork.org\"\n",
    "    endpoint = \"/v1/jobs/\"\n",
    "    \n",
    "    url = f\"{base_url}{endpoint}{job_code}\"\n",
    "\n",
    "    response = requests.get(url)\n",
    "    \n",
    "    return response.json()"
   ]
  },
  {
   "cell_type": "code",
   "execution_count": 14,
   "metadata": {},
   "outputs": [],
   "source": [
    "job_json = get_job_data(\"fd69391dc29c83d5ad744daa57de0175\")"
   ]
  },
  {
   "cell_type": "code",
   "execution_count": 15,
   "metadata": {},
   "outputs": [
    {
     "data": {
      "text/plain": [
       "{'uuid': 'fd69391dc29c83d5ad744daa57de0175',\n",
       " 'title': 'Data Transcriber',\n",
       " 'normalized_job_title': 'data transcriber',\n",
       " 'parent_uuid': 'fcfdb76b27a6e4c34abd128cbd9f61ba'}"
      ]
     },
     "execution_count": 15,
     "metadata": {},
     "output_type": "execute_result"
    }
   ],
   "source": [
    "job_json"
   ]
  },
  {
   "cell_type": "code",
   "execution_count": 17,
   "metadata": {},
   "outputs": [
    {
     "name": "stdout",
     "output_type": "stream",
     "text": [
      "Data Transcriber\n",
      "data transcriber\n"
     ]
    }
   ],
   "source": [
    "print(job_json[\"title\"])\n",
    "print(job_json[\"normalized_job_title\"])"
   ]
  }
 ],
 "metadata": {
  "kernelspec": {
   "display_name": "Python [conda env:ironhack_env]",
   "language": "python",
   "name": "conda-env-ironhack_env-py"
  },
  "language_info": {
   "codemirror_mode": {
    "name": "ipython",
    "version": 3
   },
   "file_extension": ".py",
   "mimetype": "text/x-python",
   "name": "python",
   "nbconvert_exporter": "python",
   "pygments_lexer": "ipython3",
   "version": "3.8.5"
  }
 },
 "nbformat": 4,
 "nbformat_minor": 4
}
