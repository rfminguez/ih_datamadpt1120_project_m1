{
 "cells": [
  {
   "cell_type": "code",
   "execution_count": 1,
   "metadata": {},
   "outputs": [
    {
     "name": "stdout",
     "output_type": "stream",
     "text": [
      "Conexion a la Base de Datos lista...\n"
     ]
    }
   ],
   "source": [
    "import pandas as pd\n",
    "from sqlalchemy import create_engine\n",
    "\n",
    "conn_string = 'sqlite:///../data/raw/raw_data_project_m1.db'\n",
    "motor_conexion = create_engine(conn_string)\n",
    "\n",
    "print(\"Conexion a la Base de Datos lista...\")"
   ]
  },
  {
   "cell_type": "markdown",
   "metadata": {},
   "source": [
    "# Análisis preliminar"
   ]
  },
  {
   "cell_type": "markdown",
   "metadata": {},
   "source": [
    "## Listado de las tablas en la base de datos"
   ]
  },
  {
   "cell_type": "code",
   "execution_count": 2,
   "metadata": {},
   "outputs": [
    {
     "data": {
      "text/html": [
       "<div>\n",
       "<style scoped>\n",
       "    .dataframe tbody tr th:only-of-type {\n",
       "        vertical-align: middle;\n",
       "    }\n",
       "\n",
       "    .dataframe tbody tr th {\n",
       "        vertical-align: top;\n",
       "    }\n",
       "\n",
       "    .dataframe thead th {\n",
       "        text-align: right;\n",
       "    }\n",
       "</style>\n",
       "<table border=\"1\" class=\"dataframe\">\n",
       "  <thead>\n",
       "    <tr style=\"text-align: right;\">\n",
       "      <th></th>\n",
       "      <th>name</th>\n",
       "    </tr>\n",
       "  </thead>\n",
       "  <tbody>\n",
       "    <tr>\n",
       "      <th>0</th>\n",
       "      <td>personal_info</td>\n",
       "    </tr>\n",
       "    <tr>\n",
       "      <th>1</th>\n",
       "      <td>country_info</td>\n",
       "    </tr>\n",
       "    <tr>\n",
       "      <th>2</th>\n",
       "      <td>career_info</td>\n",
       "    </tr>\n",
       "    <tr>\n",
       "      <th>3</th>\n",
       "      <td>poll_info</td>\n",
       "    </tr>\n",
       "  </tbody>\n",
       "</table>\n",
       "</div>"
      ],
      "text/plain": [
       "            name\n",
       "0  personal_info\n",
       "1   country_info\n",
       "2    career_info\n",
       "3      poll_info"
      ]
     },
     "execution_count": 2,
     "metadata": {},
     "output_type": "execute_result"
    }
   ],
   "source": [
    "df = pd.read_sql(\"SELECT name FROM sqlite_master WHERE type='table' AND name NOT LIKE 'sqlite_%';\", motor_conexion)\n",
    "df"
   ]
  },
  {
   "cell_type": "markdown",
   "metadata": {},
   "source": [
    "## Tabla *country_info*"
   ]
  },
  {
   "cell_type": "code",
   "execution_count": 3,
   "metadata": {},
   "outputs": [],
   "source": [
    "# Select de la tabla \"country_info\" a pandas dataframe\n",
    "df = pd.read_sql(\"SELECT * FROM country_info\", motor_conexion)"
   ]
  },
  {
   "cell_type": "code",
   "execution_count": 4,
   "metadata": {},
   "outputs": [
    {
     "data": {
      "text/html": [
       "<div>\n",
       "<style scoped>\n",
       "    .dataframe tbody tr th:only-of-type {\n",
       "        vertical-align: middle;\n",
       "    }\n",
       "\n",
       "    .dataframe tbody tr th {\n",
       "        vertical-align: top;\n",
       "    }\n",
       "\n",
       "    .dataframe thead th {\n",
       "        text-align: right;\n",
       "    }\n",
       "</style>\n",
       "<table border=\"1\" class=\"dataframe\">\n",
       "  <thead>\n",
       "    <tr style=\"text-align: right;\">\n",
       "      <th></th>\n",
       "      <th>uuid</th>\n",
       "      <th>country_code</th>\n",
       "      <th>rural</th>\n",
       "    </tr>\n",
       "  </thead>\n",
       "  <tbody>\n",
       "    <tr>\n",
       "      <th>0</th>\n",
       "      <td>f6e7ee00-deac-0133-4de8-0a81e8b09a82</td>\n",
       "      <td>AT</td>\n",
       "      <td>countryside</td>\n",
       "    </tr>\n",
       "    <tr>\n",
       "      <th>1</th>\n",
       "      <td>54f0f1c0-dda1-0133-a559-0a81e8b09a82</td>\n",
       "      <td>AT</td>\n",
       "      <td>urban</td>\n",
       "    </tr>\n",
       "    <tr>\n",
       "      <th>2</th>\n",
       "      <td>83127080-da3d-0133-c74f-0a81e8b09a82</td>\n",
       "      <td>AT</td>\n",
       "      <td>city</td>\n",
       "    </tr>\n",
       "    <tr>\n",
       "      <th>3</th>\n",
       "      <td>15626d40-db13-0133-ea5c-0a81e8b09a82</td>\n",
       "      <td>AT</td>\n",
       "      <td>Country</td>\n",
       "    </tr>\n",
       "    <tr>\n",
       "      <th>4</th>\n",
       "      <td>24954a70-db98-0133-4a64-0a81e8b09a82</td>\n",
       "      <td>AT</td>\n",
       "      <td>city</td>\n",
       "    </tr>\n",
       "  </tbody>\n",
       "</table>\n",
       "</div>"
      ],
      "text/plain": [
       "                                   uuid country_code        rural\n",
       "0  f6e7ee00-deac-0133-4de8-0a81e8b09a82           AT  countryside\n",
       "1  54f0f1c0-dda1-0133-a559-0a81e8b09a82           AT        urban\n",
       "2  83127080-da3d-0133-c74f-0a81e8b09a82           AT         city\n",
       "3  15626d40-db13-0133-ea5c-0a81e8b09a82           AT      Country\n",
       "4  24954a70-db98-0133-4a64-0a81e8b09a82           AT         city"
      ]
     },
     "execution_count": 4,
     "metadata": {},
     "output_type": "execute_result"
    }
   ],
   "source": [
    "# Primeros 5 registros de la tabla\n",
    "df.head()"
   ]
  },
  {
   "cell_type": "code",
   "execution_count": 5,
   "metadata": {},
   "outputs": [
    {
     "data": {
      "text/plain": [
       "(9649, 3)"
      ]
     },
     "execution_count": 5,
     "metadata": {},
     "output_type": "execute_result"
    }
   ],
   "source": [
    "# ¿Cuantas filas y columnas tiene la tabla?\n",
    "df.shape"
   ]
  },
  {
   "cell_type": "code",
   "execution_count": 6,
   "metadata": {},
   "outputs": [
    {
     "data": {
      "text/plain": [
       "['uuid', 'country_code', 'rural']"
      ]
     },
     "execution_count": 6,
     "metadata": {},
     "output_type": "execute_result"
    }
   ],
   "source": [
    "# Como se llaman las columnas\n",
    "columns = df.columns\n",
    "list(columns)"
   ]
  },
  {
   "cell_type": "code",
   "execution_count": 7,
   "metadata": {},
   "outputs": [
    {
     "name": "stdout",
     "output_type": "stream",
     "text": [
      "<class 'pandas.core.frame.DataFrame'>\n",
      "RangeIndex: 9649 entries, 0 to 9648\n",
      "Data columns (total 3 columns):\n",
      " #   Column        Non-Null Count  Dtype \n",
      "---  ------        --------------  ----- \n",
      " 0   uuid          9649 non-null   object\n",
      " 1   country_code  9649 non-null   object\n",
      " 2   rural         9649 non-null   object\n",
      "dtypes: object(3)\n",
      "memory usage: 226.3+ KB\n"
     ]
    }
   ],
   "source": [
    "# Información general de las columnas. \n",
    "# ¿Hay valores nulos? Parece que no\n",
    "df.info()"
   ]
  },
  {
   "cell_type": "code",
   "execution_count": 8,
   "metadata": {},
   "outputs": [
    {
     "data": {
      "text/plain": [
       "urban          3842\n",
       "city           1664\n",
       "rural          1517\n",
       "Non-Rural      1372\n",
       "Country         772\n",
       "countryside     482\n",
       "Name: rural, dtype: int64"
      ]
     },
     "execution_count": 8,
     "metadata": {},
     "output_type": "execute_result"
    }
   ],
   "source": [
    "# Distribución de valores sesgún la columna \"rural\"\n",
    "df[\"rural\"].value_counts()"
   ]
  },
  {
   "cell_type": "code",
   "execution_count": 9,
   "metadata": {},
   "outputs": [
    {
     "data": {
      "text/plain": [
       "['countryside', 'urban', 'city', 'Country', 'rural', 'Non-Rural']"
      ]
     },
     "execution_count": 9,
     "metadata": {},
     "output_type": "execute_result"
    }
   ],
   "source": [
    "# ¿Que posibles valores puede tomar la columna \"rural\"?\n",
    "list(df[\"rural\"].unique())"
   ]
  },
  {
   "cell_type": "code",
   "execution_count": 10,
   "metadata": {},
   "outputs": [
    {
     "data": {
      "text/plain": [
       "array(['AT', 'BE', 'BG', 'CY', 'CZ', 'DE', 'DK', 'EE', 'ES', 'FI', 'FR',\n",
       "       'GB', 'GR', 'HR', 'HU', 'IE', 'IT', 'LT', 'LU', 'LV', 'MT', 'NL',\n",
       "       'PL', 'PT', 'RO', 'SE', 'SI', 'SK'], dtype=object)"
      ]
     },
     "execution_count": 10,
     "metadata": {},
     "output_type": "execute_result"
    }
   ],
   "source": [
    "# ¿Que posibles valores puede tomar la columna \"country_code\"?\n",
    "df[\"country_code\"].unique()"
   ]
  },
  {
   "cell_type": "markdown",
   "metadata": {},
   "source": [
    "## Tabla *personal_info*"
   ]
  },
  {
   "cell_type": "code",
   "execution_count": 11,
   "metadata": {},
   "outputs": [],
   "source": [
    "df = pd.read_sql(\"SELECT * FROM personal_info\", motor_conexion)"
   ]
  },
  {
   "cell_type": "code",
   "execution_count": 12,
   "metadata": {},
   "outputs": [
    {
     "data": {
      "text/html": [
       "<div>\n",
       "<style scoped>\n",
       "    .dataframe tbody tr th:only-of-type {\n",
       "        vertical-align: middle;\n",
       "    }\n",
       "\n",
       "    .dataframe tbody tr th {\n",
       "        vertical-align: top;\n",
       "    }\n",
       "\n",
       "    .dataframe thead th {\n",
       "        text-align: right;\n",
       "    }\n",
       "</style>\n",
       "<table border=\"1\" class=\"dataframe\">\n",
       "  <thead>\n",
       "    <tr style=\"text-align: right;\">\n",
       "      <th></th>\n",
       "      <th>uuid</th>\n",
       "      <th>age</th>\n",
       "      <th>gender</th>\n",
       "      <th>dem_has_children</th>\n",
       "      <th>age_group</th>\n",
       "    </tr>\n",
       "  </thead>\n",
       "  <tbody>\n",
       "    <tr>\n",
       "      <th>0</th>\n",
       "      <td>f6e7ee00-deac-0133-4de8-0a81e8b09a82</td>\n",
       "      <td>61 years old</td>\n",
       "      <td>male</td>\n",
       "      <td>NO</td>\n",
       "      <td>40_65</td>\n",
       "    </tr>\n",
       "    <tr>\n",
       "      <th>1</th>\n",
       "      <td>54f0f1c0-dda1-0133-a559-0a81e8b09a82</td>\n",
       "      <td>57 years old</td>\n",
       "      <td>male</td>\n",
       "      <td>yES</td>\n",
       "      <td>40_65</td>\n",
       "    </tr>\n",
       "    <tr>\n",
       "      <th>2</th>\n",
       "      <td>83127080-da3d-0133-c74f-0a81e8b09a82</td>\n",
       "      <td>32 years old</td>\n",
       "      <td>male</td>\n",
       "      <td>nO</td>\n",
       "      <td>26_39</td>\n",
       "    </tr>\n",
       "    <tr>\n",
       "      <th>3</th>\n",
       "      <td>15626d40-db13-0133-ea5c-0a81e8b09a82</td>\n",
       "      <td>45 years old</td>\n",
       "      <td>Male</td>\n",
       "      <td>YES</td>\n",
       "      <td>40_65</td>\n",
       "    </tr>\n",
       "    <tr>\n",
       "      <th>4</th>\n",
       "      <td>24954a70-db98-0133-4a64-0a81e8b09a82</td>\n",
       "      <td>41 years old</td>\n",
       "      <td>Fem</td>\n",
       "      <td>yES</td>\n",
       "      <td>40_65</td>\n",
       "    </tr>\n",
       "  </tbody>\n",
       "</table>\n",
       "</div>"
      ],
      "text/plain": [
       "                                   uuid           age gender dem_has_children  \\\n",
       "0  f6e7ee00-deac-0133-4de8-0a81e8b09a82  61 years old   male               NO   \n",
       "1  54f0f1c0-dda1-0133-a559-0a81e8b09a82  57 years old   male              yES   \n",
       "2  83127080-da3d-0133-c74f-0a81e8b09a82  32 years old   male               nO   \n",
       "3  15626d40-db13-0133-ea5c-0a81e8b09a82  45 years old   Male              YES   \n",
       "4  24954a70-db98-0133-4a64-0a81e8b09a82  41 years old    Fem              yES   \n",
       "\n",
       "  age_group  \n",
       "0     40_65  \n",
       "1     40_65  \n",
       "2     26_39  \n",
       "3     40_65  \n",
       "4     40_65  "
      ]
     },
     "execution_count": 12,
     "metadata": {},
     "output_type": "execute_result"
    }
   ],
   "source": [
    "df.head()"
   ]
  },
  {
   "cell_type": "markdown",
   "metadata": {},
   "source": [
    "## Tabla *career_info*"
   ]
  },
  {
   "cell_type": "code",
   "execution_count": 13,
   "metadata": {},
   "outputs": [],
   "source": [
    "df = pd.read_sql(\"SELECT * FROM career_info\", motor_conexion)"
   ]
  },
  {
   "cell_type": "code",
   "execution_count": 14,
   "metadata": {},
   "outputs": [
    {
     "data": {
      "text/html": [
       "<div>\n",
       "<style scoped>\n",
       "    .dataframe tbody tr th:only-of-type {\n",
       "        vertical-align: middle;\n",
       "    }\n",
       "\n",
       "    .dataframe tbody tr th {\n",
       "        vertical-align: top;\n",
       "    }\n",
       "\n",
       "    .dataframe thead th {\n",
       "        text-align: right;\n",
       "    }\n",
       "</style>\n",
       "<table border=\"1\" class=\"dataframe\">\n",
       "  <thead>\n",
       "    <tr style=\"text-align: right;\">\n",
       "      <th></th>\n",
       "      <th>uuid</th>\n",
       "      <th>dem_education_level</th>\n",
       "      <th>dem_full_time_job</th>\n",
       "      <th>normalized_job_code</th>\n",
       "    </tr>\n",
       "  </thead>\n",
       "  <tbody>\n",
       "    <tr>\n",
       "      <th>0</th>\n",
       "      <td>f6e7ee00-deac-0133-4de8-0a81e8b09a82</td>\n",
       "      <td>no</td>\n",
       "      <td>no</td>\n",
       "      <td>None</td>\n",
       "    </tr>\n",
       "    <tr>\n",
       "      <th>1</th>\n",
       "      <td>54f0f1c0-dda1-0133-a559-0a81e8b09a82</td>\n",
       "      <td>high</td>\n",
       "      <td>yes</td>\n",
       "      <td>861a9b9151e11362eb3c77ca914172d0</td>\n",
       "    </tr>\n",
       "    <tr>\n",
       "      <th>2</th>\n",
       "      <td>83127080-da3d-0133-c74f-0a81e8b09a82</td>\n",
       "      <td>None</td>\n",
       "      <td>no</td>\n",
       "      <td>None</td>\n",
       "    </tr>\n",
       "    <tr>\n",
       "      <th>3</th>\n",
       "      <td>15626d40-db13-0133-ea5c-0a81e8b09a82</td>\n",
       "      <td>high</td>\n",
       "      <td>yes</td>\n",
       "      <td>049a3f3a2b5f85cb2971ba77ad66e10c</td>\n",
       "    </tr>\n",
       "    <tr>\n",
       "      <th>4</th>\n",
       "      <td>24954a70-db98-0133-4a64-0a81e8b09a82</td>\n",
       "      <td>high</td>\n",
       "      <td>yes</td>\n",
       "      <td>f4b2fb1aa40f661488e2782b6d57ad2f</td>\n",
       "    </tr>\n",
       "  </tbody>\n",
       "</table>\n",
       "</div>"
      ],
      "text/plain": [
       "                                   uuid dem_education_level dem_full_time_job  \\\n",
       "0  f6e7ee00-deac-0133-4de8-0a81e8b09a82                  no                no   \n",
       "1  54f0f1c0-dda1-0133-a559-0a81e8b09a82                high               yes   \n",
       "2  83127080-da3d-0133-c74f-0a81e8b09a82                None                no   \n",
       "3  15626d40-db13-0133-ea5c-0a81e8b09a82                high               yes   \n",
       "4  24954a70-db98-0133-4a64-0a81e8b09a82                high               yes   \n",
       "\n",
       "                normalized_job_code  \n",
       "0                              None  \n",
       "1  861a9b9151e11362eb3c77ca914172d0  \n",
       "2                              None  \n",
       "3  049a3f3a2b5f85cb2971ba77ad66e10c  \n",
       "4  f4b2fb1aa40f661488e2782b6d57ad2f  "
      ]
     },
     "execution_count": 14,
     "metadata": {},
     "output_type": "execute_result"
    }
   ],
   "source": [
    "df.head()"
   ]
  },
  {
   "cell_type": "code",
   "execution_count": 15,
   "metadata": {},
   "outputs": [
    {
     "name": "stdout",
     "output_type": "stream",
     "text": [
      "<class 'pandas.core.frame.DataFrame'>\n",
      "RangeIndex: 9649 entries, 0 to 9648\n",
      "Data columns (total 4 columns):\n",
      " #   Column               Non-Null Count  Dtype \n",
      "---  ------               --------------  ----- \n",
      " 0   uuid                 9649 non-null   object\n",
      " 1   dem_education_level  8986 non-null   object\n",
      " 2   dem_full_time_job    9649 non-null   object\n",
      " 3   normalized_job_code  5702 non-null   object\n",
      "dtypes: object(4)\n",
      "memory usage: 301.7+ KB\n"
     ]
    }
   ],
   "source": [
    "df.info()"
   ]
  },
  {
   "cell_type": "code",
   "execution_count": 16,
   "metadata": {},
   "outputs": [
    {
     "data": {
      "text/plain": [
       "yes    5702\n",
       "no     3947\n",
       "Name: dem_full_time_job, dtype: int64"
      ]
     },
     "execution_count": 16,
     "metadata": {},
     "output_type": "execute_result"
    }
   ],
   "source": [
    "df[\"dem_full_time_job\"].value_counts()"
   ]
  },
  {
   "cell_type": "code",
   "execution_count": 17,
   "metadata": {},
   "outputs": [
    {
     "data": {
      "text/plain": [
       "medium    3578\n",
       "high      3270\n",
       "low       1815\n",
       "no         323\n",
       "Name: dem_education_level, dtype: int64"
      ]
     },
     "execution_count": 17,
     "metadata": {},
     "output_type": "execute_result"
    }
   ],
   "source": [
    "# ¿Cuantos valores hay de dem_education_level?\n",
    "df[\"dem_education_level\"].value_counts()"
   ]
  },
  {
   "cell_type": "code",
   "execution_count": 18,
   "metadata": {},
   "outputs": [
    {
     "data": {
      "text/plain": [
       "663"
      ]
     },
     "execution_count": 18,
     "metadata": {},
     "output_type": "execute_result"
    }
   ],
   "source": [
    "# ¿Cuantos valores de dem_education_level son nulas?\n",
    "df[\"dem_education_level\"].isna().sum() # ¿¿¿???"
   ]
  },
  {
   "cell_type": "markdown",
   "metadata": {},
   "source": [
    "## Tabla *poll_info*"
   ]
  },
  {
   "cell_type": "code",
   "execution_count": 19,
   "metadata": {},
   "outputs": [],
   "source": [
    "df = pd.read_sql(\"SELECT * FROM poll_info\", motor_conexion)"
   ]
  },
  {
   "cell_type": "code",
   "execution_count": 20,
   "metadata": {},
   "outputs": [
    {
     "data": {
      "text/html": [
       "<div>\n",
       "<style scoped>\n",
       "    .dataframe tbody tr th:only-of-type {\n",
       "        vertical-align: middle;\n",
       "    }\n",
       "\n",
       "    .dataframe tbody tr th {\n",
       "        vertical-align: top;\n",
       "    }\n",
       "\n",
       "    .dataframe thead th {\n",
       "        text-align: right;\n",
       "    }\n",
       "</style>\n",
       "<table border=\"1\" class=\"dataframe\">\n",
       "  <thead>\n",
       "    <tr style=\"text-align: right;\">\n",
       "      <th></th>\n",
       "      <th>uuid</th>\n",
       "      <th>question_bbi_2016wave4_basicincome_awareness</th>\n",
       "      <th>question_bbi_2016wave4_basicincome_vote</th>\n",
       "      <th>question_bbi_2016wave4_basicincome_effect</th>\n",
       "      <th>question_bbi_2016wave4_basicincome_argumentsfor</th>\n",
       "      <th>question_bbi_2016wave4_basicincome_argumentsagainst</th>\n",
       "    </tr>\n",
       "  </thead>\n",
       "  <tbody>\n",
       "    <tr>\n",
       "      <th>0</th>\n",
       "      <td>f6e7ee00-deac-0133-4de8-0a81e8b09a82</td>\n",
       "      <td>I know something about it</td>\n",
       "      <td>I would not vote</td>\n",
       "      <td>None of the above</td>\n",
       "      <td>None of the above</td>\n",
       "      <td>None of the above</td>\n",
       "    </tr>\n",
       "    <tr>\n",
       "      <th>1</th>\n",
       "      <td>54f0f1c0-dda1-0133-a559-0a81e8b09a82</td>\n",
       "      <td>I understand it fully</td>\n",
       "      <td>I would probably vote for it</td>\n",
       "      <td>A basic income would not affect my work choices</td>\n",
       "      <td>It increases appreciation for household work a...</td>\n",
       "      <td>It might encourage people to stop working</td>\n",
       "    </tr>\n",
       "    <tr>\n",
       "      <th>2</th>\n",
       "      <td>83127080-da3d-0133-c74f-0a81e8b09a82</td>\n",
       "      <td>I have heard just a little about it</td>\n",
       "      <td>I would not vote</td>\n",
       "      <td>‰Û_ gain additional skills</td>\n",
       "      <td>It creates more equality of opportunity</td>\n",
       "      <td>Foreigners might come to my country and take a...</td>\n",
       "    </tr>\n",
       "    <tr>\n",
       "      <th>3</th>\n",
       "      <td>15626d40-db13-0133-ea5c-0a81e8b09a82</td>\n",
       "      <td>I have heard just a little about it</td>\n",
       "      <td>I would probably vote for it</td>\n",
       "      <td>‰Û_ work less</td>\n",
       "      <td>It reduces anxiety about financing basic needs</td>\n",
       "      <td>None of the above</td>\n",
       "    </tr>\n",
       "    <tr>\n",
       "      <th>4</th>\n",
       "      <td>24954a70-db98-0133-4a64-0a81e8b09a82</td>\n",
       "      <td>I have heard just a little about it</td>\n",
       "      <td>I would probably vote for it</td>\n",
       "      <td>None of the above</td>\n",
       "      <td>It reduces anxiety about financing basic needs</td>\n",
       "      <td>It is impossible to finance | It might encoura...</td>\n",
       "    </tr>\n",
       "  </tbody>\n",
       "</table>\n",
       "</div>"
      ],
      "text/plain": [
       "                                   uuid  \\\n",
       "0  f6e7ee00-deac-0133-4de8-0a81e8b09a82   \n",
       "1  54f0f1c0-dda1-0133-a559-0a81e8b09a82   \n",
       "2  83127080-da3d-0133-c74f-0a81e8b09a82   \n",
       "3  15626d40-db13-0133-ea5c-0a81e8b09a82   \n",
       "4  24954a70-db98-0133-4a64-0a81e8b09a82   \n",
       "\n",
       "  question_bbi_2016wave4_basicincome_awareness  \\\n",
       "0                    I know something about it   \n",
       "1                        I understand it fully   \n",
       "2          I have heard just a little about it   \n",
       "3          I have heard just a little about it   \n",
       "4          I have heard just a little about it   \n",
       "\n",
       "  question_bbi_2016wave4_basicincome_vote  \\\n",
       "0                        I would not vote   \n",
       "1            I would probably vote for it   \n",
       "2                        I would not vote   \n",
       "3            I would probably vote for it   \n",
       "4            I would probably vote for it   \n",
       "\n",
       "         question_bbi_2016wave4_basicincome_effect  \\\n",
       "0                                None of the above   \n",
       "1  A basic income would not affect my work choices   \n",
       "2                       ‰Û_ gain additional skills   \n",
       "3                                    ‰Û_ work less   \n",
       "4                                None of the above   \n",
       "\n",
       "     question_bbi_2016wave4_basicincome_argumentsfor  \\\n",
       "0                                  None of the above   \n",
       "1  It increases appreciation for household work a...   \n",
       "2            It creates more equality of opportunity   \n",
       "3     It reduces anxiety about financing basic needs   \n",
       "4     It reduces anxiety about financing basic needs   \n",
       "\n",
       "  question_bbi_2016wave4_basicincome_argumentsagainst  \n",
       "0                                  None of the above   \n",
       "1          It might encourage people to stop working   \n",
       "2  Foreigners might come to my country and take a...   \n",
       "3                                  None of the above   \n",
       "4  It is impossible to finance | It might encoura...   "
      ]
     },
     "execution_count": 20,
     "metadata": {},
     "output_type": "execute_result"
    }
   ],
   "source": [
    "df.head()"
   ]
  },
  {
   "cell_type": "code",
   "execution_count": 21,
   "metadata": {},
   "outputs": [
    {
     "data": {
      "text/html": [
       "<div>\n",
       "<style scoped>\n",
       "    .dataframe tbody tr th:only-of-type {\n",
       "        vertical-align: middle;\n",
       "    }\n",
       "\n",
       "    .dataframe tbody tr th {\n",
       "        vertical-align: top;\n",
       "    }\n",
       "\n",
       "    .dataframe thead th {\n",
       "        text-align: right;\n",
       "    }\n",
       "</style>\n",
       "<table border=\"1\" class=\"dataframe\">\n",
       "  <thead>\n",
       "    <tr style=\"text-align: right;\">\n",
       "      <th></th>\n",
       "      <th>uuid</th>\n",
       "      <th>awareness</th>\n",
       "      <th>vote</th>\n",
       "      <th>effect</th>\n",
       "      <th>argumentsfor</th>\n",
       "      <th>argumentsagainst</th>\n",
       "    </tr>\n",
       "  </thead>\n",
       "  <tbody>\n",
       "    <tr>\n",
       "      <th>0</th>\n",
       "      <td>f6e7ee00-deac-0133-4de8-0a81e8b09a82</td>\n",
       "      <td>I know something about it</td>\n",
       "      <td>I would not vote</td>\n",
       "      <td>None of the above</td>\n",
       "      <td>None of the above</td>\n",
       "      <td>None of the above</td>\n",
       "    </tr>\n",
       "    <tr>\n",
       "      <th>1</th>\n",
       "      <td>54f0f1c0-dda1-0133-a559-0a81e8b09a82</td>\n",
       "      <td>I understand it fully</td>\n",
       "      <td>I would probably vote for it</td>\n",
       "      <td>A basic income would not affect my work choices</td>\n",
       "      <td>It increases appreciation for household work a...</td>\n",
       "      <td>It might encourage people to stop working</td>\n",
       "    </tr>\n",
       "    <tr>\n",
       "      <th>2</th>\n",
       "      <td>83127080-da3d-0133-c74f-0a81e8b09a82</td>\n",
       "      <td>I have heard just a little about it</td>\n",
       "      <td>I would not vote</td>\n",
       "      <td>‰Û_ gain additional skills</td>\n",
       "      <td>It creates more equality of opportunity</td>\n",
       "      <td>Foreigners might come to my country and take a...</td>\n",
       "    </tr>\n",
       "    <tr>\n",
       "      <th>3</th>\n",
       "      <td>15626d40-db13-0133-ea5c-0a81e8b09a82</td>\n",
       "      <td>I have heard just a little about it</td>\n",
       "      <td>I would probably vote for it</td>\n",
       "      <td>‰Û_ work less</td>\n",
       "      <td>It reduces anxiety about financing basic needs</td>\n",
       "      <td>None of the above</td>\n",
       "    </tr>\n",
       "    <tr>\n",
       "      <th>4</th>\n",
       "      <td>24954a70-db98-0133-4a64-0a81e8b09a82</td>\n",
       "      <td>I have heard just a little about it</td>\n",
       "      <td>I would probably vote for it</td>\n",
       "      <td>None of the above</td>\n",
       "      <td>It reduces anxiety about financing basic needs</td>\n",
       "      <td>It is impossible to finance | It might encoura...</td>\n",
       "    </tr>\n",
       "  </tbody>\n",
       "</table>\n",
       "</div>"
      ],
      "text/plain": [
       "                                   uuid                            awareness  \\\n",
       "0  f6e7ee00-deac-0133-4de8-0a81e8b09a82            I know something about it   \n",
       "1  54f0f1c0-dda1-0133-a559-0a81e8b09a82                I understand it fully   \n",
       "2  83127080-da3d-0133-c74f-0a81e8b09a82  I have heard just a little about it   \n",
       "3  15626d40-db13-0133-ea5c-0a81e8b09a82  I have heard just a little about it   \n",
       "4  24954a70-db98-0133-4a64-0a81e8b09a82  I have heard just a little about it   \n",
       "\n",
       "                           vote  \\\n",
       "0              I would not vote   \n",
       "1  I would probably vote for it   \n",
       "2              I would not vote   \n",
       "3  I would probably vote for it   \n",
       "4  I would probably vote for it   \n",
       "\n",
       "                                            effect  \\\n",
       "0                                None of the above   \n",
       "1  A basic income would not affect my work choices   \n",
       "2                       ‰Û_ gain additional skills   \n",
       "3                                    ‰Û_ work less   \n",
       "4                                None of the above   \n",
       "\n",
       "                                        argumentsfor  \\\n",
       "0                                  None of the above   \n",
       "1  It increases appreciation for household work a...   \n",
       "2            It creates more equality of opportunity   \n",
       "3     It reduces anxiety about financing basic needs   \n",
       "4     It reduces anxiety about financing basic needs   \n",
       "\n",
       "                                    argumentsagainst  \n",
       "0                                  None of the above  \n",
       "1          It might encourage people to stop working  \n",
       "2  Foreigners might come to my country and take a...  \n",
       "3                                  None of the above  \n",
       "4  It is impossible to finance | It might encoura...  "
      ]
     },
     "execution_count": 21,
     "metadata": {},
     "output_type": "execute_result"
    }
   ],
   "source": [
    "# Renombro las columnas\n",
    "columns_renamed = ['uuid', 'awareness', 'vote', 'effect', 'argumentsfor','argumentsagainst']\n",
    "df.columns = columns_renamed\n",
    "df.head()"
   ]
  },
  {
   "cell_type": "code",
   "execution_count": 39,
   "metadata": {},
   "outputs": [
    {
     "data": {
      "text/plain": [
       "I would probably vote for it        3272\n",
       "I would vote for it                 2819\n",
       "I would probably vote against it    1439\n",
       "I would not vote                    1159\n",
       "I would vote against it              960\n",
       "Name: vote, dtype: int64"
      ]
     },
     "execution_count": 39,
     "metadata": {},
     "output_type": "execute_result"
    }
   ],
   "source": [
    "# Posibles valores del voto (¿a favor en contra?)\n",
    "df['vote'].value_counts()"
   ]
  },
  {
   "cell_type": "code",
   "execution_count": 38,
   "metadata": {},
   "outputs": [
    {
     "data": {
      "text/plain": [
       "0"
      ]
     },
     "execution_count": 38,
     "metadata": {},
     "output_type": "execute_result"
    }
   ],
   "source": [
    "# ¿Hay entradas nulas en el sentido del voto?\n",
    "condition = df['vote'].isna()\n",
    "df[\"vote\"][condition].count()"
   ]
  },
  {
   "cell_type": "code",
   "execution_count": 29,
   "metadata": {},
   "outputs": [
    {
     "data": {
      "text/plain": [
       "674"
      ]
     },
     "execution_count": 29,
     "metadata": {},
     "output_type": "execute_result"
    }
   ],
   "source": [
    "# Número de argumentos únicos a favor\n",
    "df['argumentsfor'].nunique()"
   ]
  },
  {
   "cell_type": "code",
   "execution_count": 30,
   "metadata": {},
   "outputs": [
    {
     "data": {
      "text/plain": [
       "881"
      ]
     },
     "execution_count": 30,
     "metadata": {},
     "output_type": "execute_result"
    }
   ],
   "source": [
    "# Número de argumentos únicos en contra\n",
    "df['argumentsagainst'].nunique()"
   ]
  },
  {
   "cell_type": "markdown",
   "metadata": {},
   "source": [
    "# Consultas Finales\n",
    "Consultas que puedo usar para el ejercicio."
   ]
  },
  {
   "cell_type": "markdown",
   "metadata": {},
   "source": [
    "## Challenge 1\n",
    "El objetivo es una tabla parecida a esta:\n",
    "\n",
    "| Country | Job Title | Rural | Quantity | Percentage |\n",
    "| --- | --- | --- | --- | --- |\n",
    "| Spain | Data Scientist | countryside | 25 | 5% |\n",
    "| Spain | Data Scientist | urban | 25 | 5% |\n",
    "| ... | ... | ... | ... | ... |\n"
   ]
  },
  {
   "cell_type": "code",
   "execution_count": 19,
   "metadata": {},
   "outputs": [
    {
     "data": {
      "text/html": [
       "<div>\n",
       "<style scoped>\n",
       "    .dataframe tbody tr th:only-of-type {\n",
       "        vertical-align: middle;\n",
       "    }\n",
       "\n",
       "    .dataframe tbody tr th {\n",
       "        vertical-align: top;\n",
       "    }\n",
       "\n",
       "    .dataframe thead th {\n",
       "        text-align: right;\n",
       "    }\n",
       "</style>\n",
       "<table border=\"1\" class=\"dataframe\">\n",
       "  <thead>\n",
       "    <tr style=\"text-align: right;\">\n",
       "      <th></th>\n",
       "      <th>normalized_job_code</th>\n",
       "      <th>country_code</th>\n",
       "      <th>Rural_Area</th>\n",
       "      <th>Quantity</th>\n",
       "      <th>Percentage</th>\n",
       "    </tr>\n",
       "  </thead>\n",
       "  <tbody>\n",
       "    <tr>\n",
       "      <th>549</th>\n",
       "      <td>fd69391dc29c83d5ad744daa57de0175</td>\n",
       "      <td>FI</td>\n",
       "      <td>No</td>\n",
       "      <td>1</td>\n",
       "      <td>0.02</td>\n",
       "    </tr>\n",
       "    <tr>\n",
       "      <th>370</th>\n",
       "      <td>fd69391dc29c83d5ad744daa57de0175</td>\n",
       "      <td>DK</td>\n",
       "      <td>No</td>\n",
       "      <td>1</td>\n",
       "      <td>0.02</td>\n",
       "    </tr>\n",
       "    <tr>\n",
       "      <th>1967</th>\n",
       "      <td>fd69391dc29c83d5ad744daa57de0175</td>\n",
       "      <td>FR</td>\n",
       "      <td>Yes</td>\n",
       "      <td>1</td>\n",
       "      <td>0.02</td>\n",
       "    </tr>\n",
       "    <tr>\n",
       "      <th>1330</th>\n",
       "      <td>fd69391dc29c83d5ad744daa57de0175</td>\n",
       "      <td>PL</td>\n",
       "      <td>No</td>\n",
       "      <td>1</td>\n",
       "      <td>0.02</td>\n",
       "    </tr>\n",
       "    <tr>\n",
       "      <th>2380</th>\n",
       "      <td>fd69391dc29c83d5ad744daa57de0175</td>\n",
       "      <td>SE</td>\n",
       "      <td>Yes</td>\n",
       "      <td>1</td>\n",
       "      <td>0.02</td>\n",
       "    </tr>\n",
       "    <tr>\n",
       "      <th>...</th>\n",
       "      <td>...</td>\n",
       "      <td>...</td>\n",
       "      <td>...</td>\n",
       "      <td>...</td>\n",
       "      <td>...</td>\n",
       "    </tr>\n",
       "    <tr>\n",
       "      <th>79</th>\n",
       "      <td>004431b0c1ce29ff6145307fa23f3f98</td>\n",
       "      <td>BG</td>\n",
       "      <td>No</td>\n",
       "      <td>1</td>\n",
       "      <td>0.02</td>\n",
       "    </tr>\n",
       "    <tr>\n",
       "      <th>550</th>\n",
       "      <td>004431b0c1ce29ff6145307fa23f3f98</td>\n",
       "      <td>FR</td>\n",
       "      <td>No</td>\n",
       "      <td>1</td>\n",
       "      <td>0.02</td>\n",
       "    </tr>\n",
       "    <tr>\n",
       "      <th>1491</th>\n",
       "      <td>004431b0c1ce29ff6145307fa23f3f98</td>\n",
       "      <td>SE</td>\n",
       "      <td>No</td>\n",
       "      <td>1</td>\n",
       "      <td>0.02</td>\n",
       "    </tr>\n",
       "    <tr>\n",
       "      <th>381</th>\n",
       "      <td>004431b0c1ce29ff6145307fa23f3f98</td>\n",
       "      <td>ES</td>\n",
       "      <td>No</td>\n",
       "      <td>4</td>\n",
       "      <td>0.07</td>\n",
       "    </tr>\n",
       "    <tr>\n",
       "      <th>1968</th>\n",
       "      <td>004431b0c1ce29ff6145307fa23f3f98</td>\n",
       "      <td>GB</td>\n",
       "      <td>Yes</td>\n",
       "      <td>1</td>\n",
       "      <td>0.02</td>\n",
       "    </tr>\n",
       "  </tbody>\n",
       "</table>\n",
       "<p>2408 rows × 5 columns</p>\n",
       "</div>"
      ],
      "text/plain": [
       "                   normalized_job_code country_code Rural_Area  Quantity  \\\n",
       "549   fd69391dc29c83d5ad744daa57de0175           FI         No         1   \n",
       "370   fd69391dc29c83d5ad744daa57de0175           DK         No         1   \n",
       "1967  fd69391dc29c83d5ad744daa57de0175           FR        Yes         1   \n",
       "1330  fd69391dc29c83d5ad744daa57de0175           PL         No         1   \n",
       "2380  fd69391dc29c83d5ad744daa57de0175           SE        Yes         1   \n",
       "...                                ...          ...        ...       ...   \n",
       "79    004431b0c1ce29ff6145307fa23f3f98           BG         No         1   \n",
       "550   004431b0c1ce29ff6145307fa23f3f98           FR         No         1   \n",
       "1491  004431b0c1ce29ff6145307fa23f3f98           SE         No         1   \n",
       "381   004431b0c1ce29ff6145307fa23f3f98           ES         No         4   \n",
       "1968  004431b0c1ce29ff6145307fa23f3f98           GB        Yes         1   \n",
       "\n",
       "      Percentage  \n",
       "549         0.02  \n",
       "370         0.02  \n",
       "1967        0.02  \n",
       "1330        0.02  \n",
       "2380        0.02  \n",
       "...          ...  \n",
       "79          0.02  \n",
       "550         0.02  \n",
       "1491        0.02  \n",
       "381         0.07  \n",
       "1968        0.02  \n",
       "\n",
       "[2408 rows x 5 columns]"
      ]
     },
     "metadata": {},
     "output_type": "display_data"
    }
   ],
   "source": [
    "country_code = ''\n",
    "#country_code = 'asdfg'\n",
    "#country_code = 'eS'\n",
    "#country_code = 'ES'\n",
    "\n",
    "# Esta consulta saca el total de normalized_job_codes (con valores no nulos)\n",
    "country_code_filter = f'AND country_code = \"{country_code.upper()}\"' if country_code else \"\"\n",
    "SQL_QUERY = f\"\"\"\n",
    "SELECT COUNT(normalized_job_code) AS Total\n",
    "FROM career_info JOIN country_info\n",
    "ON career_info.uuid = country_info.uuid \n",
    "WHERE normalized_job_code IS NOT NULL\n",
    "{country_code_filter}\n",
    "\"\"\"\n",
    "df = pd.read_sql(SQL_QUERY, motor_conexion)\n",
    "total = float(df[\"Total\"][0])\n",
    "#print(total)\n",
    "#print(type(total))\n",
    "\n",
    "# Esta consulta saca la tabla en sí (falta asociar Country y Job Title a sus respectivas fuentes externas)\n",
    "# ['countryside', 'urban', 'city', 'Country', 'rural', 'Non-Rural']\n",
    "country_code_filter = f'HAVING country_code = \"{country_code.upper()}\"' if country_code else \"\"\n",
    "SQL_QUERY = f\"\"\"\n",
    "SELECT normalized_job_code, \n",
    "    country_code, \n",
    "    CASE rural\n",
    "        WHEN 'urban'\n",
    "            THEN 'No'\n",
    "        WHEN 'city'\n",
    "            THEN 'No'\n",
    "        WHEN 'Non-Rural'\n",
    "            THEN 'No'\n",
    "        ELSE\n",
    "            'Yes'\n",
    "    END Rural_Area, \n",
    "    COUNT(career_info.uuid) AS Quantity, \n",
    "    ROUND(COUNT(career_info.uuid) / {total} * 100, 2) AS Percentage\n",
    "FROM career_info \n",
    "JOIN country_info\n",
    "ON career_info.uuid = country_info.uuid\n",
    "WHERE normalized_job_code IS NOT NULL \n",
    "GROUP BY Rural_Area, country_code, normalized_job_code\n",
    "{country_code_filter}\n",
    "\"\"\"\n",
    "\n",
    "df = pd.read_sql(SQL_QUERY, motor_conexion)\n",
    "display(df.sort_values(by=\"normalized_job_code\", ascending=False))"
   ]
  },
  {
   "cell_type": "markdown",
   "metadata": {},
   "source": [
    "## Bonus 1\n",
    "El objetivo es una tabla parecida a esta:\n",
    "\n",
    "| Position | Number of Pro Arguments | Number of Cons Arguments |\n",
    "| --- | --- | --- |\n",
    "| In Favor |  |  |\n",
    "| Against |  |  |\n",
    "| Not Vote |  |  |\n"
   ]
  },
  {
   "cell_type": "code",
   "execution_count": 164,
   "metadata": {},
   "outputs": [],
   "source": [
    "sql_query = \"\"\"\n",
    "WITH aux_t1 AS (\n",
    "    SELECT uuid,\n",
    "        CASE \n",
    "            WHEN question_bbi_2016wave4_basicincome_vote = 'I would vote for it' THEN 'In Favor'\n",
    "            WHEN question_bbi_2016wave4_basicincome_vote = 'I would probably vote for it' THEN 'In Favor'\n",
    "            WHEN question_bbi_2016wave4_basicincome_vote = 'I would vote against it' THEN 'Against'\n",
    "            WHEN question_bbi_2016wave4_basicincome_vote = 'I would probably vote against it' THEN 'Against'\n",
    "            WHEN question_bbi_2016wave4_basicincome_vote = 'I would not vote' THEN 'Not Vote'\n",
    "            ELSE 'N/A'\n",
    "        END AS vote,\n",
    "        question_bbi_2016wave4_basicincome_argumentsfor AS arguments_for,\n",
    "        question_bbi_2016wave4_basicincome_argumentsagainst AS arguments_against\n",
    "    FROM poll_info\n",
    "),\n",
    "aux_t2 AS (\n",
    "    SELECT vote, COUNT(*) AS num_arguments_for\n",
    "    FROM aux_t1 \n",
    "    WHERE vote='In Favor' AND arguments_for!='None of the above' \n",
    "),\n",
    "aux_t3 AS (\n",
    "    SELECT vote, COUNT(*) AS num_arguments_against\n",
    "    FROM aux_t1 \n",
    "    WHERE vote='In Favor' AND arguments_against!='None of the above' \n",
    "),\n",
    "aux_t4 AS (\n",
    "    SELECT vote, COUNT(*) AS num_arguments_for\n",
    "    FROM aux_t1 \n",
    "    WHERE vote='Against' AND arguments_for!='None of the above' \n",
    "),\n",
    "aux_t5 AS (\n",
    "    SELECT vote, COUNT(*) AS num_arguments_against\n",
    "    FROM aux_t1 \n",
    "    WHERE vote='Against' AND arguments_against!='None of the above' \n",
    "),\n",
    "aux_t6 AS (\n",
    "    SELECT vote, COUNT(*) AS num_arguments_for\n",
    "    FROM aux_t1 \n",
    "    WHERE vote='Not Vote' AND arguments_for!='None of the above' \n",
    "),\n",
    "aux_t7 AS (\n",
    "    SELECT vote, COUNT(*) AS num_arguments_against\n",
    "    FROM aux_t1 \n",
    "    WHERE vote='Not Vote' AND arguments_against!='None of the above' \n",
    ")\n",
    "SELECT * FROM aux_t2, aux_t3, aux_t4, aux_t5, aux_t6, aux_t7\n",
    "\"\"\""
   ]
  },
  {
   "cell_type": "code",
   "execution_count": 165,
   "metadata": {},
   "outputs": [
    {
     "data": {
      "text/html": [
       "<div>\n",
       "<style scoped>\n",
       "    .dataframe tbody tr th:only-of-type {\n",
       "        vertical-align: middle;\n",
       "    }\n",
       "\n",
       "    .dataframe tbody tr th {\n",
       "        vertical-align: top;\n",
       "    }\n",
       "\n",
       "    .dataframe thead th {\n",
       "        text-align: right;\n",
       "    }\n",
       "</style>\n",
       "<table border=\"1\" class=\"dataframe\">\n",
       "  <thead>\n",
       "    <tr style=\"text-align: right;\">\n",
       "      <th></th>\n",
       "      <th>vote</th>\n",
       "      <th>num_arguments_for</th>\n",
       "      <th>vote</th>\n",
       "      <th>num_arguments_against</th>\n",
       "      <th>vote</th>\n",
       "      <th>num_arguments_for</th>\n",
       "      <th>vote</th>\n",
       "      <th>num_arguments_against</th>\n",
       "      <th>vote</th>\n",
       "      <th>num_arguments_for</th>\n",
       "      <th>vote</th>\n",
       "      <th>num_arguments_against</th>\n",
       "    </tr>\n",
       "  </thead>\n",
       "  <tbody>\n",
       "    <tr>\n",
       "      <th>0</th>\n",
       "      <td>In Favor</td>\n",
       "      <td>5625</td>\n",
       "      <td>In Favor</td>\n",
       "      <td>5485</td>\n",
       "      <td>Against</td>\n",
       "      <td>1438</td>\n",
       "      <td>Against</td>\n",
       "      <td>2276</td>\n",
       "      <td>Not Vote</td>\n",
       "      <td>423</td>\n",
       "      <td>Not Vote</td>\n",
       "      <td>507</td>\n",
       "    </tr>\n",
       "  </tbody>\n",
       "</table>\n",
       "</div>"
      ],
      "text/plain": [
       "       vote  num_arguments_for      vote  num_arguments_against     vote  \\\n",
       "0  In Favor               5625  In Favor                   5485  Against   \n",
       "\n",
       "   num_arguments_for     vote  num_arguments_against      vote  \\\n",
       "0               1438  Against                   2276  Not Vote   \n",
       "\n",
       "   num_arguments_for      vote  num_arguments_against  \n",
       "0                423  Not Vote                    507  "
      ]
     },
     "execution_count": 165,
     "metadata": {},
     "output_type": "execute_result"
    }
   ],
   "source": [
    "df = pd.read_sql(sql_query, motor_conexion)\n",
    "df"
   ]
  },
  {
   "cell_type": "markdown",
   "metadata": {},
   "source": [
    "### Consulta final"
   ]
  },
  {
   "cell_type": "code",
   "execution_count": 184,
   "metadata": {},
   "outputs": [
    {
     "name": "stdout",
     "output_type": "stream",
     "text": [
      "Votos a favor. Numero de argumentos a favor: 5625\n",
      "Votos a favor. Numero de argumentos en contra: 5485\n",
      "Votos en contra. Numero de argumentos a favor: 1438\n",
      "Votos en contra. Numero de argumentos en contra: 2276\n",
      "No vota ni a favor ni en contra. Numero de argumentos a favor: 423\n",
      "No vota ni a favor ni en contra. Numero de argumentos en contra: 507\n"
     ]
    }
   ],
   "source": [
    "def get_base_query():\n",
    "    base_query = \"\"\"\n",
    "    WITH aux_t1 AS (\n",
    "        SELECT uuid,\n",
    "            CASE \n",
    "                WHEN question_bbi_2016wave4_basicincome_vote = 'I would vote for it' THEN 'In Favor'\n",
    "                WHEN question_bbi_2016wave4_basicincome_vote = 'I would probably vote for it' THEN 'In Favor'\n",
    "                WHEN question_bbi_2016wave4_basicincome_vote = 'I would vote against it' THEN 'Against'\n",
    "                WHEN question_bbi_2016wave4_basicincome_vote = 'I would probably vote against it' THEN 'Against'\n",
    "                WHEN question_bbi_2016wave4_basicincome_vote = 'I would not vote' THEN 'Not Vote'\n",
    "                ELSE 'N/A'\n",
    "            END AS vote,\n",
    "            question_bbi_2016wave4_basicincome_argumentsfor AS arguments_for,\n",
    "            question_bbi_2016wave4_basicincome_argumentsagainst AS arguments_against\n",
    "        FROM poll_info\n",
    "    )\n",
    "    \"\"\"\n",
    "    return base_query\n",
    "\n",
    "\n",
    "def num_arguments_for(vote_tendency, conn):\n",
    "    sql_num_votes_for = f\"\"\"\n",
    "    SELECT vote, COUNT(*) AS num_arguments_for\n",
    "    FROM aux_t1 \n",
    "    WHERE vote='{vote_tendency}' AND arguments_for!='None of the above' \n",
    "    \"\"\"\n",
    "    \n",
    "    return pd.read_sql(get_base_query() + sql_num_votes_for, conn)[\"num_arguments_for\"][0]\n",
    "\n",
    "\n",
    "def num_arguments_against(vote_tendency, conn):\n",
    "    sql_num_votes_for = f\"\"\"\n",
    "    SELECT vote, COUNT(*) AS num_arguments_against\n",
    "    FROM aux_t1 \n",
    "    WHERE vote='{vote_tendency}' AND arguments_against!='None of the above' \n",
    "    \"\"\"\n",
    "    \n",
    "    return pd.read_sql(get_base_query() + sql_num_votes_for, conn)[\"num_arguments_against\"][0]\n",
    "\n",
    "\n",
    "vote_positive_num_arguments_for = num_arguments_for('In Favor', motor_conexion)\n",
    "vote_negative_num_arguments_for = num_arguments_for('Against', motor_conexion)\n",
    "vote_neutral_num_arguments_for = num_arguments_for('Not Vote', motor_conexion)\n",
    "vote_positive_num_arguments_against = num_arguments_against('In Favor', motor_conexion)\n",
    "vote_negative_num_arguments_against = num_arguments_against('Against', motor_conexion)\n",
    "vote_neutral_num_arguments_against = num_arguments_against('Not Vote', motor_conexion)\n",
    "\n",
    "print(f\"Votos a favor. Numero de argumentos a favor: {vote_positive_num_arguments_for}\")\n",
    "print(f\"Votos a favor. Numero de argumentos en contra: {vote_positive_num_arguments_against}\")\n",
    "print(f\"Votos en contra. Numero de argumentos a favor: {vote_negative_num_arguments_for}\")\n",
    "print(f\"Votos en contra. Numero de argumentos en contra: {vote_negative_num_arguments_against}\")\n",
    "print(f\"No vota ni a favor ni en contra. Numero de argumentos a favor: {vote_neutral_num_arguments_for}\")\n",
    "print(f\"No vota ni a favor ni en contra. Numero de argumentos en contra: {vote_neutral_num_arguments_against}\")\n"
   ]
  },
  {
   "cell_type": "markdown",
   "metadata": {},
   "source": [
    "## Bonus 2\n",
    "El objetivo es una tabla parecida a esta:\n",
    "\n",
    "| Education Level | Top 10 Skills |\n",
    "| --- | --- |\n",
    "| high |  |\n",
    "| medium |  |\n",
    "| low |  |\n",
    "| no education |  |\n"
   ]
  },
  {
   "cell_type": "code",
   "execution_count": 185,
   "metadata": {},
   "outputs": [
    {
     "data": {
      "text/html": [
       "<div>\n",
       "<style scoped>\n",
       "    .dataframe tbody tr th:only-of-type {\n",
       "        vertical-align: middle;\n",
       "    }\n",
       "\n",
       "    .dataframe tbody tr th {\n",
       "        vertical-align: top;\n",
       "    }\n",
       "\n",
       "    .dataframe thead th {\n",
       "        text-align: right;\n",
       "    }\n",
       "</style>\n",
       "<table border=\"1\" class=\"dataframe\">\n",
       "  <thead>\n",
       "    <tr style=\"text-align: right;\">\n",
       "      <th></th>\n",
       "      <th>uuid</th>\n",
       "      <th>dem_education_level</th>\n",
       "      <th>dem_full_time_job</th>\n",
       "      <th>normalized_job_code</th>\n",
       "    </tr>\n",
       "  </thead>\n",
       "  <tbody>\n",
       "    <tr>\n",
       "      <th>0</th>\n",
       "      <td>f6e7ee00-deac-0133-4de8-0a81e8b09a82</td>\n",
       "      <td>no</td>\n",
       "      <td>no</td>\n",
       "      <td>None</td>\n",
       "    </tr>\n",
       "    <tr>\n",
       "      <th>1</th>\n",
       "      <td>54f0f1c0-dda1-0133-a559-0a81e8b09a82</td>\n",
       "      <td>high</td>\n",
       "      <td>yes</td>\n",
       "      <td>861a9b9151e11362eb3c77ca914172d0</td>\n",
       "    </tr>\n",
       "    <tr>\n",
       "      <th>2</th>\n",
       "      <td>83127080-da3d-0133-c74f-0a81e8b09a82</td>\n",
       "      <td>None</td>\n",
       "      <td>no</td>\n",
       "      <td>None</td>\n",
       "    </tr>\n",
       "    <tr>\n",
       "      <th>3</th>\n",
       "      <td>15626d40-db13-0133-ea5c-0a81e8b09a82</td>\n",
       "      <td>high</td>\n",
       "      <td>yes</td>\n",
       "      <td>049a3f3a2b5f85cb2971ba77ad66e10c</td>\n",
       "    </tr>\n",
       "    <tr>\n",
       "      <th>4</th>\n",
       "      <td>24954a70-db98-0133-4a64-0a81e8b09a82</td>\n",
       "      <td>high</td>\n",
       "      <td>yes</td>\n",
       "      <td>f4b2fb1aa40f661488e2782b6d57ad2f</td>\n",
       "    </tr>\n",
       "  </tbody>\n",
       "</table>\n",
       "</div>"
      ],
      "text/plain": [
       "                                   uuid dem_education_level dem_full_time_job  \\\n",
       "0  f6e7ee00-deac-0133-4de8-0a81e8b09a82                  no                no   \n",
       "1  54f0f1c0-dda1-0133-a559-0a81e8b09a82                high               yes   \n",
       "2  83127080-da3d-0133-c74f-0a81e8b09a82                None                no   \n",
       "3  15626d40-db13-0133-ea5c-0a81e8b09a82                high               yes   \n",
       "4  24954a70-db98-0133-4a64-0a81e8b09a82                high               yes   \n",
       "\n",
       "                normalized_job_code  \n",
       "0                              None  \n",
       "1  861a9b9151e11362eb3c77ca914172d0  \n",
       "2                              None  \n",
       "3  049a3f3a2b5f85cb2971ba77ad66e10c  \n",
       "4  f4b2fb1aa40f661488e2782b6d57ad2f  "
      ]
     },
     "execution_count": 185,
     "metadata": {},
     "output_type": "execute_result"
    }
   ],
   "source": [
    "df = pd.read_sql(\"SELECT * FROM career_info\", motor_conexion)\n",
    "df.head()"
   ]
  },
  {
   "cell_type": "code",
   "execution_count": 186,
   "metadata": {},
   "outputs": [
    {
     "data": {
      "text/plain": [
       "medium    3578\n",
       "high      3270\n",
       "low       1815\n",
       "no         323\n",
       "Name: dem_education_level, dtype: int64"
      ]
     },
     "execution_count": 186,
     "metadata": {},
     "output_type": "execute_result"
    }
   ],
   "source": [
    "df[\"dem_education_level\"].value_counts()"
   ]
  },
  {
   "cell_type": "code",
   "execution_count": 202,
   "metadata": {},
   "outputs": [
    {
     "data": {
      "text/plain": [
       "uuid                   663\n",
       "dem_education_level      0\n",
       "dem_full_time_job      663\n",
       "normalized_job_code    256\n",
       "dtype: int64"
      ]
     },
     "execution_count": 202,
     "metadata": {},
     "output_type": "execute_result"
    }
   ],
   "source": [
    "# ¿Hay valores nulos?\n",
    "education_is_null = df[\"dem_education_level\"].isna()\n",
    "df[education_is_null].count()"
   ]
  },
  {
   "cell_type": "code",
   "execution_count": 205,
   "metadata": {},
   "outputs": [
    {
     "data": {
      "text/plain": [
       "medium    3578\n",
       "high      3270\n",
       "low       1815\n",
       "N/A        663\n",
       "no         323\n",
       "Name: dem_education_level, dtype: int64"
      ]
     },
     "execution_count": 205,
     "metadata": {},
     "output_type": "execute_result"
    }
   ],
   "source": [
    "# Relleno valores nulos\n",
    "df[\"dem_education_level\"].fillna(\"N/A\", inplace=True)\n",
    "df[\"dem_education_level\"].value_counts()"
   ]
  },
  {
   "cell_type": "code",
   "execution_count": 236,
   "metadata": {},
   "outputs": [],
   "source": [
    "# Importo la función get_jobs_df para obtener los nombres de jobs desde API.\n",
    "# Como esta un subdirectorio por debajo no puedo importar esto de la forma tradicional así que tengo que usar sys.path.insert\n",
    "import sys\n",
    "sys.path.insert(0, '../p_acquisition')\n",
    "from m_job_data_acquisition import get_jobs_df "
   ]
  },
  {
   "cell_type": "markdown",
   "metadata": {},
   "source": [
    "### Consulta final"
   ]
  },
  {
   "cell_type": "code",
   "execution_count": 241,
   "metadata": {},
   "outputs": [
    {
     "name": "stdout",
     "output_type": "stream",
     "text": [
      "Getting normalized job data using the dataatwork API\n",
      "Returning job name corresponding to code: 861a9b9151e11362eb3c77ca914172d0\n",
      "Returning job name corresponding to code: 8a7a3f1bce0958ae9f090683e5a925b7\n",
      "Returning job name corresponding to code: 3833bd699e7afe4665b595f282da0387\n",
      "Returning job name corresponding to code: a4d5b8b38f9513825d0d94a981ebe962\n",
      "Returning job name corresponding to code: ced804d972b03cca6d523ec8925a7943\n",
      "Returning job name corresponding to code: 04c82eae29e1c4a30eac0710b74ab276\n",
      "Returning job name corresponding to code: 132aa9e82c5d4c8a395342d0a6e22c5c\n",
      "Returning job name corresponding to code: 1a281bf4bd1fe9b2a6e464e508bea167\n",
      "Returning job name corresponding to code: 2ca138b991c50dc6696238e5ad800142\n",
      "Returning job name corresponding to code: 36ac256201657eeaa67ee95aaae3cd54\n",
      "['Automatic Data Processing Planner', 'Data Scientist', 'Database Development and Administration Project Manager', 'Database Manager', 'Oracle Database Administrator (Oracle DBA)', 'Database Marketing Analyst', 'Electronic Data Interchange System Developer (EDI System Developer)', 'Data Storage Specialist', 'Database Software Technician', 'Data Warehousing Specialist']\n",
      "Getting normalized job data using the dataatwork API\n",
      "Returning job name corresponding to code: 141ddda0f613da65a280521247de0e9f\n",
      "Returning job name corresponding to code: 775190277a849cba701b306a7b374c0a\n",
      "Returning job name corresponding to code: 38a15ceadcdd6d4db16a88fa1a72b083\n",
      "Returning job name corresponding to code: fcaf4aac737e53ad24b9f32f08b8740f\n",
      "Returning job name corresponding to code: 781f5d3a80812531fdc81125a527a626\n",
      "Returning job name corresponding to code: 861a9b9151e11362eb3c77ca914172d0\n",
      "Returning job name corresponding to code: 049a3f3a2b5f85cb2971ba77ad66e10c\n",
      "Returning job name corresponding to code: 7bb15eefb19ed09c59349baad7e8469e\n",
      "Returning job name corresponding to code: a33662485eb4ad97096183db945308f4\n",
      "Returning job name corresponding to code: 76385cb24e831b3364279b9de5641d8f\n",
      "['Data Administrator', 'Data Officer', 'Data Warehouse Analyst', 'Computer or Data Processing Systems Consultant', 'Data Warehouse Specialist', 'Automatic Data Processing Planner', 'Data Coordinator', 'Database Coordinator', 'Automatic Data Processing Planner (ADP Planner)', 'Automatic Data Processing Systems Security Specialist (ADP Systems Security)']\n",
      "Getting normalized job data using the dataatwork API\n",
      "Returning job name corresponding to code: 1a281bf4bd1fe9b2a6e464e508bea167\n",
      "Returning job name corresponding to code: 375017ea3a1a97f5ea676def873bb25b\n",
      "Returning job name corresponding to code: 775190277a849cba701b306a7b374c0a\n",
      "Returning job name corresponding to code: a003702c0cea282e17967772dd83de5e\n",
      "Returning job name corresponding to code: ced804d972b03cca6d523ec8925a7943\n",
      "Returning job name corresponding to code: d4624ed8068d24948e18303212593cd6\n",
      "Returning job name corresponding to code: 049a3f3a2b5f85cb2971ba77ad66e10c\n",
      "Returning job name corresponding to code: 16b67d7f57698455aefbc1ae1b358b50\n",
      "Returning job name corresponding to code: 1dd2fdc8a3981f2a1d8f0ca173952bb8\n",
      "Returning job name corresponding to code: dac2e921c1f887d9efc4c06fa33c1397\n",
      "['Data Storage Specialist', 'Geographic Information Systems Data Specialist (GIS Data Specialist)', 'Data Officer', 'Data Security Analyst', 'Oracle Database Administrator (Oracle DBA)', 'Data Architect', 'Data Coordinator', 'Database Engineer', 'Database Administration Manager', 'Automatic Data Processing Customer Liaison (ADP Customer Liaison)']\n",
      "Getting normalized job data using the dataatwork API\n",
      "Returning job name corresponding to code: e7b3e1c6a32c7247cd4857e4c3574165\n",
      "Returning job name corresponding to code: 897ef18a9321616495831a4b4b0c1bb2\n",
      "Returning job name corresponding to code: 36675c937946c8a4fc5de7d0b4c850de\n",
      "Returning job name corresponding to code: 76385cb24e831b3364279b9de5641d8f\n",
      "Returning job name corresponding to code: 775190277a849cba701b306a7b374c0a\n",
      "Returning job name corresponding to code: 77d124811ae6887bd4ff42b0e2b49116\n",
      "Returning job name corresponding to code: a12a16280e22220f9354333f6fe1b22a\n",
      "Returning job name corresponding to code: e55556364d2096578fd153e9800e826f\n",
      "Returning job name corresponding to code: 0de6170ccbed08e62b2e5862d5846a43\n",
      "Returning job name corresponding to code: a003702c0cea282e17967772dd83de5e\n",
      "['Data Processing Systems Analyst', 'Data Communications Software Consultant', 'Data Warehousing Engineer', 'Automatic Data Processing Systems Security Specialist (ADP Systems Security)', 'Data Officer', 'Data Warehouse Architect', 'Geographic Information Systems Data Administrator (GIS Data Administrator)', 'Database Consultant', 'Database Tester', 'Data Security Analyst']\n",
      "Getting normalized job data using the dataatwork API\n",
      "Returning job name corresponding to code: 5db2c8d6539f983e1ca3d7c5b939e190\n",
      "Returning job name corresponding to code: 77d124811ae6887bd4ff42b0e2b49116\n",
      "Returning job name corresponding to code: 2173ff3afd8d28192f7cf119af201940\n",
      "Returning job name corresponding to code: 3161063d378eecc4581c5cdee46a2a6c\n",
      "Returning job name corresponding to code: 375017ea3a1a97f5ea676def873bb25b\n",
      "Returning job name corresponding to code: 45033f83b6e0309eca9bcd76917f15d0\n",
      "Returning job name corresponding to code: 775190277a849cba701b306a7b374c0a\n",
      "Returning job name corresponding to code: a003702c0cea282e17967772dd83de5e\n",
      "Returning job name corresponding to code: a12a16280e22220f9354333f6fe1b22a\n",
      "Returning job name corresponding to code: e2f68bf748aea2c7d2254550c0c92b23\n",
      "['Database Administration Associate', 'Data Warehouse Architect', 'Data Modeling Specialist', 'Head of Information Systems and Data Processing', 'Geographic Information Systems Data Specialist (GIS Data Specialist)', 'Database Modeler', 'Data Officer', 'Data Security Analyst', 'Geographic Information Systems Data Administrator (GIS Data Administrator)', 'Director of Data Operations']\n"
     ]
    }
   ],
   "source": [
    "def get_top_jobs_by_education_level(education_level, conn):\n",
    "    sql_query = f\"\"\"\n",
    "    SELECT uuid,\n",
    "        CASE \n",
    "            WHEN dem_education_level IS NULL THEN 'N/A'\n",
    "            ELSE dem_education_level\n",
    "        END AS education_level,\n",
    "        normalized_job_code AS job_code,\n",
    "        COUNT(normalized_job_code) AS num_jobs \n",
    "    FROM career_info\n",
    "    WHERE education_level = '{education_level}'\n",
    "    GROUP BY education_level, job_code\n",
    "    ORDER BY num_jobs DESC\n",
    "    LIMIT 10\n",
    "    \"\"\"\n",
    "\n",
    "    return list(pd.read_sql(sql_query, conn)[\"job_code\"])\n",
    "\n",
    "top_job_codes_education_unknown = get_top_jobs_by_education_level(\"N/A\", motor_conexion)\n",
    "print(list(get_jobs_df(top_job_codes_education_unknown)[\"job_name\"]))\n",
    "\n",
    "top_job_codes_education_high = get_top_jobs_by_education_level(\"high\", motor_conexion)\n",
    "print(list(get_jobs_df(top_job_codes_education_high)[\"job_name\"]))\n",
    "\n",
    "top_job_codes_education_medium = get_top_jobs_by_education_level(\"medium\", motor_conexion)\n",
    "print(list(get_jobs_df(top_job_codes_education_medium)[\"job_name\"]))\n",
    "\n",
    "top_job_codes_education_low = get_top_jobs_by_education_level(\"low\", motor_conexion)\n",
    "print(list(get_jobs_df(top_job_codes_education_low)[\"job_name\"]))\n",
    "\n",
    "top_job_codes_no_education = get_top_jobs_by_education_level(\"no\", motor_conexion)\n",
    "print(list(get_jobs_df(top_job_codes_no_education)[\"job_name\"]))\n"
   ]
  },
  {
   "cell_type": "code",
   "execution_count": null,
   "metadata": {},
   "outputs": [],
   "source": []
  }
 ],
 "metadata": {
  "kernelspec": {
   "display_name": "Python [conda env:ironhack_env]",
   "language": "python",
   "name": "conda-env-ironhack_env-py"
  },
  "language_info": {
   "codemirror_mode": {
    "name": "ipython",
    "version": 3
   },
   "file_extension": ".py",
   "mimetype": "text/x-python",
   "name": "python",
   "nbconvert_exporter": "python",
   "pygments_lexer": "ipython3",
   "version": "3.8.5"
  }
 },
 "nbformat": 4,
 "nbformat_minor": 4
}
